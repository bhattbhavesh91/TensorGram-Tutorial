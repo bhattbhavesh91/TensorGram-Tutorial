{
  "nbformat": 4,
  "nbformat_minor": 0,
  "metadata": {
    "colab": {
      "name": "TensorGram-Notebook.ipynb",
      "provenance": [],
      "collapsed_sections": []
    },
    "kernelspec": {
      "display_name": "Python 3",
      "name": "python3"
    }
  },
  "cells": [
    {
      "cell_type": "code",
      "metadata": {
        "id": "-E1shHf2YvlO"
      },
      "source": [
        "!pip install -q tensorgram"
      ],
      "execution_count": null,
      "outputs": []
    },
    {
      "cell_type": "code",
      "metadata": {
        "id": "wSui514eC7ez"
      },
      "source": [
        "import matplotlib.pyplot as plt\r\n",
        "import tensorflow as tf\r\n",
        "import numpy as np\r\n",
        "import pandas as pd\r\n",
        "import sys\r\n",
        "import json"
      ],
      "execution_count": null,
      "outputs": []
    },
    {
      "cell_type": "code",
      "metadata": {
        "id": "o-znBPmMC84V"
      },
      "source": [
        "training_data = np.array([[0,0],[0,1],[1,0],[1,1]], \"float32\")\r\n",
        "target_data = np.array([[0],[1],[1],[0]], \"float32\")"
      ],
      "execution_count": null,
      "outputs": []
    },
    {
      "cell_type": "code",
      "metadata": {
        "id": "PcdbDUZXC-fa"
      },
      "source": [
        "model = tf.keras.models.Sequential()\r\n",
        "model.add(tf.keras.layers.Dense(4, input_dim=2, activation='relu'))\r\n",
        "model.add(tf.keras.layers.Dense(1, activation='sigmoid'))"
      ],
      "execution_count": null,
      "outputs": []
    },
    {
      "cell_type": "code",
      "metadata": {
        "id": "EzVPQgZ0DCDl"
      },
      "source": [
        "model.compile(loss='mean_squared_error',\r\n",
        "              optimizer='adam',\r\n",
        "              metrics=['binary_accuracy'])"
      ],
      "execution_count": null,
      "outputs": []
    },
    {
      "cell_type": "code",
      "metadata": {
        "id": "etvvp5HDDDaL"
      },
      "source": [
        "model.summary()"
      ],
      "execution_count": null,
      "outputs": []
    },
    {
      "cell_type": "code",
      "metadata": {
        "id": "N66_gqMHDU-1"
      },
      "source": [
        "from tensorgram import TensorGram"
      ],
      "execution_count": null,
      "outputs": []
    },
    {
      "cell_type": "code",
      "metadata": {
        "id": "9P5l3g1QaYlz"
      },
      "source": [
        "with open('telegram-chat-token.json') as f:\r\n",
        "    token_data = json.load(f)"
      ],
      "execution_count": null,
      "outputs": []
    },
    {
      "cell_type": "code",
      "metadata": {
        "id": "-fdLsJRTXIPJ"
      },
      "source": [
        "tf_telegram = TensorGram(\"X-OR Gate\", \r\n",
        "                         token_data[\"token_value\"])"
      ],
      "execution_count": null,
      "outputs": []
    },
    {
      "cell_type": "code",
      "metadata": {
        "id": "eeufVc-IXISU"
      },
      "source": [
        "history = model.fit(training_data, \r\n",
        "                    target_data, \r\n",
        "                    callbacks=[tf_telegram],\r\n",
        "                    epochs=100,\r\n",
        "                    verbose=0)"
      ],
      "execution_count": null,
      "outputs": []
    },
    {
      "cell_type": "code",
      "metadata": {
        "id": "-XmmisOBZb_s"
      },
      "source": [
        ""
      ],
      "execution_count": null,
      "outputs": []
    }
  ]
}